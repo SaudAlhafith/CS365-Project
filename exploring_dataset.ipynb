{
 "cells": [
  {
   "cell_type": "markdown",
   "id": "0099170f",
   "metadata": {},
   "source": [
    "### Load data"
   ]
  },
  {
   "cell_type": "code",
   "execution_count": 164,
   "id": "1681a828",
   "metadata": {},
   "outputs": [],
   "source": [
    "import os\n",
    "import multiprocessing.dummy as mp"
   ]
  },
  {
   "cell_type": "code",
   "execution_count": 165,
   "id": "abe1b1bd",
   "metadata": {},
   "outputs": [],
   "source": [
    "kalimat_base = \"data/KalimatCorpus-2.0\"\n",
    "expected_dirs = os.listdir(kalimat_base)"
   ]
  },
  {
   "cell_type": "code",
   "execution_count": 166,
   "id": "64b2083f",
   "metadata": {},
   "outputs": [
    {
     "name": "stdout",
     "output_type": "stream",
     "text": [
      "✅ Kalimat Corpus is ready with 18256 .txt files\n"
     ]
    }
   ],
   "source": [
    "def check_kalimat_structure_os():\n",
    "    missing = [d for d in expected_dirs if not os.path.isdir(os.path.join(kalimat_base, d))]\n",
    "    \n",
    "    if missing:\n",
    "        print(f\"❌ Missing folders: {missing}\")\n",
    "    else:\n",
    "        count = 0\n",
    "        for d in expected_dirs:\n",
    "            folder_path = os.path.join(kalimat_base, d)\n",
    "            count += len([f for f in os.listdir(folder_path)])\n",
    "        print(f\"✅ Kalimat Corpus is ready with {count} .txt files\")\n",
    "\n",
    "check_kalimat_structure_os()"
   ]
  },
  {
   "cell_type": "code",
   "execution_count": 167,
   "id": "0004e801",
   "metadata": {},
   "outputs": [],
   "source": [
    "def load_kalimat_articles(category):\n",
    "    category_path = os.path.join(kalimat_base, category)\n",
    "    if not os.path.isdir(category_path):\n",
    "        print(f\"❌ Category '{category}' does not exist in the Kalimat Corpus.\")\n",
    "        return []\n",
    "\n",
    "    articles = []\n",
    "    for filename in os.listdir(category_path):\n",
    "        if filename.endswith(\".txt\"):\n",
    "            file_path = os.path.join(category_path, filename)\n",
    "            with open(file_path, 'r', encoding='utf-8') as f:\n",
    "                words = [line.strip() for line in f if line.strip()]\n",
    "                text = \" \".join(words)\n",
    "                articles.append({\n",
    "                    \"category\": category.replace(\"articles\", \"\").upper(),\n",
    "                    \"filename\": filename,\n",
    "                    \"text\": text,\n",
    "                    \"word_count\": len(words)\n",
    "                })\n",
    "\n",
    "    print(f\"✅ Loaded {len(articles)} articles from category '{category}'\")\n",
    "    return articles"
   ]
  },
  {
   "cell_type": "code",
   "execution_count": 168,
   "id": "901e61ce",
   "metadata": {},
   "outputs": [],
   "source": [
    "def load_all_articles_parallel():\n",
    "    with mp.Pool(processes=min(len(expected_dirs), int(os.cpu_count() / 2))) as pool:\n",
    "        results = pool.map(load_kalimat_articles, expected_dirs)\n",
    "    \n",
    "    dataset = [article for category_articles in results for article in category_articles]\n",
    "    return dataset"
   ]
  },
  {
   "cell_type": "code",
   "execution_count": 169,
   "id": "e17c401e",
   "metadata": {},
   "outputs": [
    {
     "name": "stdout",
     "output_type": "stream",
     "text": [
      "✅ Loaded 1689 articles from category 'articlesInternational'\n",
      "✅ Loaded 2495 articles from category 'articlesCulture'\n",
      "✅ Loaded 3265 articles from category 'articlesEconomy'\n",
      "✅ Loaded 3237 articles from category 'articlesLocal'\n",
      "✅ Loaded 3475 articles from category 'articlesReligion'\n",
      "✅ Loaded 4095 articles from category 'articlesSports'\n",
      "✅ Dataset loaded with 18256 articles.\n"
     ]
    }
   ],
   "source": [
    "if __name__ == \"__main__\": # To solve the multiprocessing issue on Windows\n",
    "    dataset = load_all_articles_parallel()\n",
    "    print(f\"✅ Dataset loaded with {len(dataset)} articles.\")"
   ]
  },
  {
   "cell_type": "markdown",
   "id": "6ab4cb2b",
   "metadata": {},
   "source": [
    "### Preprocessing"
   ]
  },
  {
   "cell_type": "code",
   "execution_count": 170,
   "id": "4dc09f91",
   "metadata": {},
   "outputs": [
    {
     "data": {
      "text/plain": [
       "(  category             filename  \\\n",
       " 0  CULTURE     culturecapr1.txt   \n",
       " 1  CULTURE  culturecapr1005.txt   \n",
       " 2  CULTURE  culturecapr1006.txt   \n",
       " 3  CULTURE  culturecapr1007.txt   \n",
       " 4  CULTURE  culturecapr1008.txt   \n",
       " \n",
       "                                                 text  word_count  \n",
       " 0  كتب سالم الرحبي : تنطلق اليوم الدورة البرامجية...        2732  \n",
       " 1  كتب - فيصل العلوي : شاركت السلطنة صباح امس دول...         835  \n",
       " 2  اربعة عروض على مسرح الشباب وعرض في الرستاق ثم ...         691  \n",
       " 3  حاوره خالد عبداللطيف : حين يناقش الموضوع الثقا...        1972  \n",
       " 4  افتتح صباح أمس بقاعة الموسيقي في جامعة السلطان...         329  ,\n",
       " category\n",
       " SPORTS           4095\n",
       " RELIGION         3475\n",
       " ECONOMY          3265\n",
       " LOCAL            3237\n",
       " CULTURE          2495\n",
       " INTERNATIONAL    1689\n",
       " Name: count, dtype: int64)"
      ]
     },
     "execution_count": 170,
     "metadata": {},
     "output_type": "execute_result"
    }
   ],
   "source": [
    "import pandas as pd\n",
    "df = pd.DataFrame(dataset)\n",
    "df.head(), df['category'].value_counts()"
   ]
  },
  {
   "cell_type": "code",
   "execution_count": 171,
   "id": "40ed7e58",
   "metadata": {},
   "outputs": [],
   "source": [
    "import string\n",
    "import nltk\n",
    "from nltk.corpus import stopwords\n",
    "import regex as re\n",
    "from sklearn.feature_extraction.text import TfidfVectorizer\n",
    "from sklearn.model_selection import train_test_split, cross_val_score \n",
    "from sklearn.ensemble import RandomForestClassifier \n",
    "from sklearn.metrics import accuracy_score, classification_report\n",
    "import numpy as np "
   ]
  },
  {
   "cell_type": "code",
   "execution_count": 172,
   "id": "e414db39",
   "metadata": {},
   "outputs": [
    {
     "name": "stderr",
     "output_type": "stream",
     "text": [
      "[nltk_data] Downloading package stopwords to\n",
      "[nltk_data]     C:\\Users\\sauda\\AppData\\Roaming\\nltk_data...\n",
      "[nltk_data]   Package stopwords is already up-to-date!\n",
      "[nltk_data] Downloading package punkt to\n",
      "[nltk_data]     C:\\Users\\sauda\\AppData\\Roaming\\nltk_data...\n",
      "[nltk_data]   Package punkt is already up-to-date!\n"
     ]
    },
    {
     "data": {
      "text/plain": [
       "701"
      ]
     },
     "execution_count": 172,
     "metadata": {},
     "output_type": "execute_result"
    }
   ],
   "source": [
    "nltk.download('stopwords')\n",
    "nltk.download('punkt')\n",
    "\n",
    "arabic_stopwords = set(stopwords.words('arabic'))\n",
    "len(arabic_stopwords)\n",
    "\n",
    "# we need steeming"
   ]
  },
  {
   "cell_type": "code",
   "execution_count": 184,
   "id": "e414db39",
   "metadata": {},
   "outputs": [
    {
     "data": {
      "text/plain": [
       "'رحب نص جرب حوي رقم علم رقم كلم انجليزية'"
      ]
     },
     "execution_count": 184,
     "metadata": {},
     "output_type": "execute_result"
    }
   ],
   "source": [
    "def preprocess_text(text):\n",
    "\n",
    "    stemmer = nltk.stem.ISRIStemmer()\n",
    "\n",
    "    text = re.sub(r'\\p{P}+|\\$', '', text)  # remove all punctuation (English + Arabic)\n",
    "    text = re.sub(r'[0-9٠-٩]', '', text)  # remove Arabic and English digits\n",
    "    text = re.sub(r'[a-zA-Z]', '', text)  # remove English letters\n",
    "    text = re.sub(r'[\\u064B-\\u0652]', '', text)  # remove Arabic diacritics\n",
    "    text = re.sub(r'\\s+', ' ', text).strip()  # clean extra spaces\n",
    "\n",
    "    tokens = text.split()\n",
    "    tokens = [stemmer.stem(word) for word in tokens if word not in arabic_stopwords]\n",
    "\n",
    "\n",
    "    return ' '.join(tokens)\n",
    "\n",
    "preprocess_text(\"!مرحباً... هذا نَصٌّ تَجْرِيبِيٌ يحتوي على 123 أرقام ٤٥٦، علامات ترقيم @#$%، كلمات إنجليزية like This.\")"
   ]
  },
  {
   "cell_type": "code",
   "execution_count": 174,
   "id": "d7641e55",
   "metadata": {},
   "outputs": [],
   "source": [
    "df['processed_text'] = df['text'].apply(preprocess_text)"
   ]
  },
  {
   "cell_type": "markdown",
   "id": "033ae2b8",
   "metadata": {},
   "source": [
    "### Visualization"
   ]
  },
  {
   "cell_type": "code",
   "execution_count": 175,
   "id": "cf0802ed",
   "metadata": {},
   "outputs": [],
   "source": [
    "import matplotlib.pyplot as plt\n",
    "%matplotlib inline"
   ]
  },
  {
   "cell_type": "code",
   "execution_count": 176,
   "id": "95a7ecd6",
   "metadata": {},
   "outputs": [
    {
     "data": {
      "image/png": "[encoded data removed]",
      "text/plain": [
       "<Figure size 1000x600 with 1 Axes>"
      ]
     },
     "metadata": {},
     "output_type": "display_data"
    }
   ],
   "source": [
    "import pandas as pd\n",
    "import matplotlib.pyplot as plt\n",
    "\n",
    "df['is_duplicate'] = df.duplicated(subset='processed_text', keep=False)\n",
    "\n",
    "# Group and make sure both True/False appear\n",
    "counts = df.groupby(['category', 'is_duplicate']).size().unstack().reindex(columns=[False, True], fill_value=0)\n",
    "counts.columns = ['Unique', 'Duplicate']\n",
    "\n",
    "# Plot\n",
    "counts.plot(kind='bar', stacked=True, figsize=(10, 6), colormap='tab10')\n",
    "plt.title(\"Stacked Bar of Unique vs Duplicate Articles per Category\")\n",
    "plt.xlabel(\"Category\")\n",
    "plt.ylabel(\"Article Count\")\n",
    "plt.xticks(rotation=45)\n",
    "plt.grid(axis='y')\n",
    "plt.tight_layout()\n",
    "plt.show()\n"
   ]
  },
  {
   "cell_type": "code",
   "execution_count": 177,
   "id": "6e4f24d8",
   "metadata": {},
   "outputs": [],
   "source": [
    "df = df.drop_duplicates(subset=['processed_text'])"
   ]
  },
  {
   "cell_type": "code",
   "execution_count": null,
   "id": "1ad9e3d6",
   "metadata": {},
   "outputs": [],
   "source": [
    "vocab = set()\n",
    "df['processed_text'].str.split().apply(vocab.update)\n",
    "vocab"
   ]
  },
  {
   "cell_type": "code",
   "execution_count": 152,
   "id": "7599a951",
   "metadata": {},
   "outputs": [],
   "source": [
    "tfidf_vectorizer = TfidfVectorizer(max_features=5000)\n",
    "tfidf_matrix = tfidf_vectorizer.fit_transform(df['processed_text'])"
   ]
  },
  {
   "cell_type": "code",
   "execution_count": 153,
   "id": "b91e2b24",
   "metadata": {},
   "outputs": [
    {
     "name": "stdout",
     "output_type": "stream",
     "text": [
      "\n",
      "Cross-Validation Scores: [0.89184009 0.88085456 0.88934538 0.92056971 0.90632703]\n",
      "Mean Cross-Validation Score: 0.8978\n",
      "\n",
      " Model Evaluation\n",
      "Accuracy: 0.9167579408543264\n",
      "\n",
      "Classification Report:\n",
      "               precision    recall  f1-score   support\n",
      "\n",
      "      CULTURE       0.91      0.83      0.87       499\n",
      "      ECONOMY       0.90      0.84      0.87       653\n",
      "INTERNATIONAL       0.90      0.91      0.91       338\n",
      "        LOCAL       0.81      0.88      0.84       648\n",
      "     RELIGION       0.97      1.00      0.99       695\n",
      "       SPORTS       0.98      0.99      0.99       819\n",
      "\n",
      "     accuracy                           0.92      3652\n",
      "    macro avg       0.91      0.91      0.91      3652\n",
      " weighted avg       0.92      0.92      0.92      3652\n",
      "\n"
     ]
    }
   ],
   "source": [
    "\n",
    "X = tfidf_matrix\n",
    "y = df['category']\n",
    "X_train, X_test, y_train, y_test = train_test_split(X, y, test_size=0.2, random_state=42, stratify=y)\n",
    "\n",
    "rf_classifier = RandomForestClassifier(n_estimators=260, random_state=42, n_jobs=-1)\n",
    "\n",
    "\n",
    "rf_classifier.fit(X_train, y_train)\n",
    "y_pred = rf_classifier.predict(X_test)\n",
    "cv_scores = cross_val_score(rf_classifier, X, y, cv=5, scoring='accuracy')\n",
    "\n",
    "print(f'\\nCross-Validation Scores: {cv_scores}')\n",
    "print(f'Mean Cross-Validation Score: {np.mean(cv_scores):.4f}')\n",
    "\n",
    "print(\"\\n Model Evaluation\")\n",
    "accuracy = accuracy_score(y_test, y_pred)\n",
    "print(f\"Accuracy: {accuracy}\")\n",
    "\n",
    "print(\"\\nClassification Report:\")\n",
    "class_report = classification_report(y_test, y_pred, target_names=sorted(y.unique()))\n",
    "print(class_report)\n"
   ]
  },
  {
   "cell_type": "markdown",
   "id": "7accbef5",
   "metadata": {},
   "source": [
    "### Tryign with\\out duplicates\n",
    "- without diplicates + no religion :\n",
    "Mean Cross-Validation Score: 0.8919\n",
    "accuracy                           0.91      2913\n",
    "- without diplicates with religion:\n",
    "Mean Cross-Validation Score: 0.8871\n",
    "accuracy                           0.90      3025\n",
    "- with no duplicates with religion:\n",
    "Mean Cross-Validation Score: 0.8978\n",
    "accuracy                           0.92      3652\n"
   ]
  },
  {
   "cell_type": "markdown",
   "id": "17dd0d15",
   "metadata": {},
   "source": []
  }
 ],
 "metadata": {
  "kernelspec": {
   "display_name": "base",
   "language": "python",
   "name": "python3"
  },
  "language_info": {
   "codemirror_mode": {
    "name": "ipython",
    "version": 3
   },
   "file_extension": ".py",
   "mimetype": "text/x-python",
   "name": "python",
   "nbconvert_exporter": "python",
   "pygments_lexer": "ipython3",
   "version": "3.11.3"
  }
 },
 "nbformat": 4,
 "nbformat_minor": 5
}
